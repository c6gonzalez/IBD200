{
 "cells": [
  {
   "cell_type": "markdown",
   "metadata": {},
   "source": [
    "## SES location PCoAs"
   ]
  },
  {
   "cell_type": "code",
   "execution_count": 14,
   "metadata": {},
   "outputs": [],
   "source": [
    "#ICD tab-separated file to biom file\n",
    "!biom convert -i ICD_data_for_qiime.txt \\\n",
    "-o ./ICD_SES.biom \\\n",
    "--table-type=\"OTU table\" --to-hdf5\n",
    "\n",
    "#CCD tab-separated file to biom file\n",
    "!biom convert -i CCD_data_for_qiime.txt \\\n",
    "-o ./CCD_SES.biom \\\n",
    "--table-type=\"OTU table\" --to-hdf5\n",
    "\n",
    "#ICCD tab-separated file to biom file\n",
    "!biom convert -i ICCD_data_for_qiime.txt \\\n",
    "-o ./ICCD_SES.biom \\\n",
    "--table-type=\"OTU table\" --to-hdf5"
   ]
  },
  {
   "cell_type": "code",
   "execution_count": 15,
   "metadata": {},
   "outputs": [
    {
     "name": "stdout",
     "output_type": "stream",
     "text": [
      "\u001b[32mImported ICD_SES.biom as BIOMV210DirFmt to ICD_SES.qza\u001b[0m\n",
      "\u001b[32mImported CCD_SES.biom as BIOMV210DirFmt to CCD_SES.qza\u001b[0m\n",
      "\u001b[32mImported ICCD_SES.biom as BIOMV210DirFmt to ICCD_SES.qza\u001b[0m\n"
     ]
    }
   ],
   "source": [
    "!qiime tools import \\\n",
    "  --input-path ICD_SES.biom \\\n",
    "  --type 'FeatureTable[Frequency]' \\\n",
    "  --output-path ICD_SES.qza\n",
    "\n",
    "!qiime tools import \\\n",
    "  --input-path CCD_SES.biom \\\n",
    "  --type 'FeatureTable[Frequency]' \\\n",
    "  --output-path CCD_SES.qza\n",
    "\n",
    "!qiime tools import \\\n",
    "  --input-path ICCD_SES.biom \\\n",
    "  --type 'FeatureTable[Frequency]' \\\n",
    "  --output-path ICCD_SES.qza"
   ]
  },
  {
   "cell_type": "code",
   "execution_count": 16,
   "metadata": {},
   "outputs": [
    {
     "name": "stdout",
     "output_type": "stream",
     "text": [
      "\u001b[32mImported ICD_SES.biom as BIOMV210DirFmt to ICD_SES_rel.qza\u001b[0m\n",
      "\u001b[32mImported CCD_SES.biom as BIOMV210DirFmt to CCD_SES_rel.qza\u001b[0m\n",
      "\u001b[32mImported ICCD_SES.biom as BIOMV210DirFmt to ICCD_SES_rel.qza\u001b[0m\n"
     ]
    }
   ],
   "source": [
    "#make relative freq for biplot\n",
    "!qiime tools import \\\n",
    "  --input-path ICD_SES.biom \\\n",
    "  --type 'FeatureTable[RelativeFrequency]' \\\n",
    "  --output-path ICD_SES_rel.qza\n",
    "\n",
    "!qiime tools import \\\n",
    "  --input-path CCD_SES.biom \\\n",
    "  --type 'FeatureTable[RelativeFrequency]' \\\n",
    "  --output-path CCD_SES_rel.qza\n",
    "\n",
    "!qiime tools import \\\n",
    "  --input-path ICCD_SES.biom \\\n",
    "  --type 'FeatureTable[RelativeFrequency]' \\\n",
    "  --output-path ICCD_SES_rel.qza"
   ]
  },
  {
   "cell_type": "code",
   "execution_count": 17,
   "metadata": {},
   "outputs": [
    {
     "name": "stdout",
     "output_type": "stream",
     "text": [
      "\u001b[32mSaved Visualization to: ICD_SES.qzv\u001b[0m\n",
      "\u001b[32mSaved Visualization to: CCD_SES.qzv\u001b[0m\n",
      "\u001b[32mSaved Visualization to: ICCD_SES.qzv\u001b[0m\n"
     ]
    }
   ],
   "source": [
    "# Get min sampling depth for each\n",
    "!qiime feature-table summarize \\\n",
    "  --i-table ICD_SES.qza \\\n",
    "  --o-visualization ICD_SES.qzv \\\n",
    "  --m-sample-metadata-file IBD200_revamped_metadata_20210111.txt\n",
    "\n",
    "!qiime feature-table summarize \\\n",
    "  --i-table CCD_SES.qza \\\n",
    "  --o-visualization CCD_SES.qzv \\\n",
    "  --m-sample-metadata-file IBD200_revamped_metadata_20210111.txt\n",
    "\n",
    "!qiime feature-table summarize \\\n",
    "  --i-table ICCD_SES.qza \\\n",
    "  --o-visualization ICCD_SES.qzv \\\n",
    "  --m-sample-metadata-file IBD200_revamped_metadata_20210111.txt"
   ]
  },
  {
   "cell_type": "code",
   "execution_count": 23,
   "metadata": {},
   "outputs": [
    {
     "name": "stdout",
     "output_type": "stream",
     "text": [
      "\u001b[32mSaved FeatureTable[Frequency] to: ICD-core-metrics-results-multiomics/rarefied_table.qza\u001b[0m\n",
      "\u001b[32mSaved SampleData[AlphaDiversity] to: ICD-core-metrics-results-multiomics/observed_otus_vector.qza\u001b[0m\n",
      "\u001b[32mSaved SampleData[AlphaDiversity] to: ICD-core-metrics-results-multiomics/shannon_vector.qza\u001b[0m\n",
      "\u001b[32mSaved SampleData[AlphaDiversity] to: ICD-core-metrics-results-multiomics/evenness_vector.qza\u001b[0m\n",
      "\u001b[32mSaved DistanceMatrix to: ICD-core-metrics-results-multiomics/jaccard_distance_matrix.qza\u001b[0m\n",
      "\u001b[32mSaved DistanceMatrix to: ICD-core-metrics-results-multiomics/bray_curtis_distance_matrix.qza\u001b[0m\n",
      "\u001b[32mSaved PCoAResults to: ICD-core-metrics-results-multiomics/jaccard_pcoa_results.qza\u001b[0m\n",
      "\u001b[32mSaved PCoAResults to: ICD-core-metrics-results-multiomics/bray_curtis_pcoa_results.qza\u001b[0m\n",
      "\u001b[32mSaved Visualization to: ICD-core-metrics-results-multiomics/jaccard_emperor.qzv\u001b[0m\n",
      "\u001b[32mSaved Visualization to: ICD-core-metrics-results-multiomics/bray_curtis_emperor.qzv\u001b[0m\n",
      "\u001b[32mSaved FeatureTable[Frequency] to: CCD-core-metrics-results-multiomics/rarefied_table.qza\u001b[0m\n",
      "\u001b[32mSaved SampleData[AlphaDiversity] to: CCD-core-metrics-results-multiomics/observed_otus_vector.qza\u001b[0m\n",
      "\u001b[32mSaved SampleData[AlphaDiversity] to: CCD-core-metrics-results-multiomics/shannon_vector.qza\u001b[0m\n",
      "\u001b[32mSaved SampleData[AlphaDiversity] to: CCD-core-metrics-results-multiomics/evenness_vector.qza\u001b[0m\n",
      "\u001b[32mSaved DistanceMatrix to: CCD-core-metrics-results-multiomics/jaccard_distance_matrix.qza\u001b[0m\n",
      "\u001b[32mSaved DistanceMatrix to: CCD-core-metrics-results-multiomics/bray_curtis_distance_matrix.qza\u001b[0m\n",
      "\u001b[32mSaved PCoAResults to: CCD-core-metrics-results-multiomics/jaccard_pcoa_results.qza\u001b[0m\n",
      "\u001b[32mSaved PCoAResults to: CCD-core-metrics-results-multiomics/bray_curtis_pcoa_results.qza\u001b[0m\n",
      "\u001b[32mSaved Visualization to: CCD-core-metrics-results-multiomics/jaccard_emperor.qzv\u001b[0m\n",
      "\u001b[32mSaved Visualization to: CCD-core-metrics-results-multiomics/bray_curtis_emperor.qzv\u001b[0m\n",
      "\u001b[32mSaved FeatureTable[Frequency] to: ICCD-core-metrics-results-multiomics/rarefied_table.qza\u001b[0m\n",
      "\u001b[32mSaved SampleData[AlphaDiversity] to: ICCD-core-metrics-results-multiomics/observed_otus_vector.qza\u001b[0m\n",
      "\u001b[32mSaved SampleData[AlphaDiversity] to: ICCD-core-metrics-results-multiomics/shannon_vector.qza\u001b[0m\n",
      "\u001b[32mSaved SampleData[AlphaDiversity] to: ICCD-core-metrics-results-multiomics/evenness_vector.qza\u001b[0m\n",
      "\u001b[32mSaved DistanceMatrix to: ICCD-core-metrics-results-multiomics/jaccard_distance_matrix.qza\u001b[0m\n",
      "\u001b[32mSaved DistanceMatrix to: ICCD-core-metrics-results-multiomics/bray_curtis_distance_matrix.qza\u001b[0m\n",
      "\u001b[32mSaved PCoAResults to: ICCD-core-metrics-results-multiomics/jaccard_pcoa_results.qza\u001b[0m\n",
      "\u001b[32mSaved PCoAResults to: ICCD-core-metrics-results-multiomics/bray_curtis_pcoa_results.qza\u001b[0m\n",
      "\u001b[32mSaved Visualization to: ICCD-core-metrics-results-multiomics/jaccard_emperor.qzv\u001b[0m\n",
      "\u001b[32mSaved Visualization to: ICCD-core-metrics-results-multiomics/bray_curtis_emperor.qzv\u001b[0m\n"
     ]
    }
   ],
   "source": [
    "#Core metrics for PCoA \n",
    "!qiime diversity core-metrics \\\n",
    "--i-table ICD_SES.qza \\\n",
    "--p-sampling-depth 3000000 \\\n",
    "--m-metadata-file IBD200_revamped_metadata_20210111.txt \\\n",
    "--output-dir ICD-core-metrics-results-multiomics\n",
    "\n",
    "#Core metrics for PCoA \n",
    "!qiime diversity core-metrics \\\n",
    "--i-table CCD_SES.qza \\\n",
    "--p-sampling-depth 3000000 \\\n",
    "--m-metadata-file IBD200_revamped_metadata_20210111.txt \\\n",
    "--output-dir CCD-core-metrics-results-multiomics\n",
    "\n",
    "#Core metrics for PCoA \n",
    "!qiime diversity core-metrics \\\n",
    "--i-table ICCD_SES.qza \\\n",
    "--p-sampling-depth 3000000 \\\n",
    "--m-metadata-file IBD200_revamped_metadata_20210111.txt \\\n",
    "--output-dir ICCD-core-metrics-results-multiomics"
   ]
  },
  {
   "cell_type": "code",
   "execution_count": 24,
   "metadata": {},
   "outputs": [
    {
     "name": "stdout",
     "output_type": "stream",
     "text": [
      "\u001b[32mSaved PCoAResults to: ICD_SES_pca.qza\u001b[0m\n",
      "\u001b[32mSaved PCoAResults to: CCD_SES_pca.qza\u001b[0m\n",
      "\u001b[32mSaved PCoAResults to: ICCD_SES_pca.qza\u001b[0m\n"
     ]
    }
   ],
   "source": [
    "# make pcoa objects\n",
    "!qiime diversity pcoa \\\n",
    "--i-distance-matrix ICD-core-metrics-results-multiomics/bray_curtis_distance_matrix.qza \\\n",
    "--p-number-of-dimensions 3 \\\n",
    "--o-pcoa ICD_SES_pca.qza\n",
    "\n",
    "!qiime diversity pcoa \\\n",
    "--i-distance-matrix CCD-core-metrics-results-multiomics/bray_curtis_distance_matrix.qza \\\n",
    "--p-number-of-dimensions 3 \\\n",
    "--o-pcoa CCD_SES_pca.qza\n",
    "\n",
    "!qiime diversity pcoa \\\n",
    "--i-distance-matrix ICCD-core-metrics-results-multiomics/bray_curtis_distance_matrix.qza \\\n",
    "--p-number-of-dimensions 3 \\\n",
    "--o-pcoa ICCD_SES_pca.qza"
   ]
  },
  {
   "cell_type": "code",
   "execution_count": 26,
   "metadata": {},
   "outputs": [
    {
     "name": "stdout",
     "output_type": "stream",
     "text": [
      "\u001b[32mSaved PCoAResults % Properties('biplot') to: ICD_SES_biplot.qza\u001b[0m\n",
      "\u001b[32mSaved PCoAResults % Properties('biplot') to: CCD_SES_biplot.qza\u001b[0m\n",
      "\u001b[32mSaved PCoAResults % Properties('biplot') to: ICCD_SES_biplot.qza\u001b[0m\n"
     ]
    }
   ],
   "source": [
    "#make biplot object\n",
    "!qiime diversity pcoa-biplot \\\n",
    "--i-pcoa ICD_SES_pca.qza \\\n",
    "--i-features ICD_SES_rel.qza \\\n",
    "--o-biplot ICD_SES_biplot.qza\n",
    "\n",
    "!qiime diversity pcoa-biplot \\\n",
    "--i-pcoa CCD_SES_pca.qza \\\n",
    "--i-features CCD_SES_rel.qza \\\n",
    "--o-biplot CCD_SES_biplot.qza\n",
    "\n",
    "!qiime diversity pcoa-biplot \\\n",
    "--i-pcoa ICCD_SES_pca.qza \\\n",
    "--i-features ICCD_SES_rel.qza \\\n",
    "--o-biplot ICCD_SES_biplot.qza"
   ]
  },
  {
   "cell_type": "code",
   "execution_count": 27,
   "metadata": {},
   "outputs": [
    {
     "name": "stdout",
     "output_type": "stream",
     "text": [
      "\u001b[32mSaved Visualization to: ICD_SES_biplot.qzv\u001b[0m\n",
      "\u001b[32mSaved Visualization to: CCD_SES_biplot.qzv\u001b[0m\n",
      "\u001b[32mSaved Visualization to: ICCD_SES_biplot.qzv\u001b[0m\n"
     ]
    }
   ],
   "source": [
    "!qiime emperor biplot \\\n",
    "--i-biplot ICD_SES_biplot.qza \\\n",
    "--m-sample-metadata-file IBD200_revamped_metadata_20210111.txt \\\n",
    "--p-ignore-missing-samples \\\n",
    "--p-number-of-features 5 \\\n",
    "--o-visualization ICD_SES_biplot.qzv\n",
    "\n",
    "!qiime emperor biplot \\\n",
    "--i-biplot CCD_SES_biplot.qza \\\n",
    "--m-sample-metadata-file IBD200_revamped_metadata_20210111.txt \\\n",
    "--p-ignore-missing-samples \\\n",
    "--p-number-of-features 5 \\\n",
    "--o-visualization CCD_SES_biplot.qzv\n",
    "\n",
    "!qiime emperor biplot \\\n",
    "--i-biplot ICCD_SES_biplot.qza \\\n",
    "--m-sample-metadata-file IBD200_revamped_metadata_20210111.txt \\\n",
    "--p-ignore-missing-samples \\\n",
    "--p-number-of-features 5 \\\n",
    "--o-visualization ICCD_SES_biplot.qzv"
   ]
  },
  {
   "cell_type": "code",
   "execution_count": 19,
   "metadata": {},
   "outputs": [
    {
     "name": "stdout",
     "output_type": "stream",
     "text": [
      "Archive:  ICD_SES_rel.qza\r\n",
      "  inflating: 6842d4c3-65d5-4ec7-bf62-faec9b9ae38a/metadata.yaml  \r\n",
      "  inflating: 6842d4c3-65d5-4ec7-bf62-faec9b9ae38a/checksums.md5  \r\n",
      "  inflating: 6842d4c3-65d5-4ec7-bf62-faec9b9ae38a/VERSION  \r\n",
      "  inflating: 6842d4c3-65d5-4ec7-bf62-faec9b9ae38a/provenance/metadata.yaml  \r\n",
      "  inflating: 6842d4c3-65d5-4ec7-bf62-faec9b9ae38a/provenance/citations.bib  \r\n",
      "  inflating: 6842d4c3-65d5-4ec7-bf62-faec9b9ae38a/provenance/VERSION  \r\n",
      "  inflating: 6842d4c3-65d5-4ec7-bf62-faec9b9ae38a/provenance/action/action.yaml  \r\n",
      "  inflating: 6842d4c3-65d5-4ec7-bf62-faec9b9ae38a/data/feature-table.biom  \r\n"
     ]
    }
   ],
   "source": [
    "!qiime songbird multinomial \\\n",
    "--i-table ./HBOT2/Metagenomics/101571_feature-table-species.qza \\\n",
    "--m-metadata-file ./HBOT2/HBOT2_metagenomics_metadataV3.txt \\\n",
    "--p-formula \"day+host_subject_id+trial_arm+hbot_session_numbers\" \\\n",
    "--p-epochs 10000 \\\n",
    "--p-differential-prior 0.5 \\\n",
    "--p-summary-interval 1 \\\n",
    "--o-differentials ./HBOT2/Metagenomics/songbird_differentials.qza \\\n",
    "--o-regression-stats ./HBOT2/Metagenomics/songbird_regression-stats.qza \\\n",
    "--o-regression-biplot ./HBOT2/Metagenomics/songbird_regression-biplot.qza"
   ]
  },
  {
   "cell_type": "code",
   "execution_count": 20,
   "metadata": {},
   "outputs": [],
   "source": [
    "!biom convert -i blah/data/feature-table.biom -o test.from_biom.txt --to-tsv"
   ]
  },
  {
   "cell_type": "code",
   "execution_count": 28,
   "metadata": {},
   "outputs": [
    {
     "name": "stdout",
     "output_type": "stream",
     "text": [
      "Usage: \u001b[34mqiime songbird multinomial\u001b[0m [OPTIONS]\r\n",
      "\r\n",
      "  Performs multinomial regression and calculates rank differentials for\r\n",
      "  organisms with respect to the covariates of interest.\r\n",
      "\r\n",
      "\u001b[1mInputs\u001b[0m:\r\n",
      "  \u001b[34m\u001b[4m--i-table\u001b[0m ARTIFACT \u001b[32mFeatureTable[Frequency]\u001b[0m\r\n",
      "                          Input table of counts.                    \u001b[35m[required]\u001b[0m\r\n",
      "\u001b[1mParameters\u001b[0m:\r\n",
      "  \u001b[34m\u001b[4m--m-metadata-file\u001b[0m METADATA...\r\n",
      "    (multiple arguments   Sample metadata file with covariates of interest.\r\n",
      "     will be merged)                                                \u001b[35m[required]\u001b[0m\r\n",
      "  \u001b[34m\u001b[4m--p-formula\u001b[0m TEXT        The statistical formula specifying covariates to be\r\n",
      "                          included in the model and their interactions.\r\n",
      "                                                                    \u001b[35m[required]\u001b[0m\r\n",
      "  \u001b[34m--p-training-column\u001b[0m TEXT\r\n",
      "                          The column in the metadata file used to specify\r\n",
      "                          training and testing. These columns should be\r\n",
      "                          specifically labeled (Train) and (Test).  \u001b[35m[optional]\u001b[0m\r\n",
      "  \u001b[34m--p-num-random-test-examples\u001b[0m INTEGER\r\n",
      "                          Number of random samples to hold out for\r\n",
      "                          cross-validation if a training column is not\r\n",
      "                          specified.                              \u001b[35m[default: 5]\u001b[0m\r\n",
      "  \u001b[34m--p-epochs\u001b[0m INTEGER      The total number of iterations over the entire\r\n",
      "                          dataset.                             \u001b[35m[default: 1000]\u001b[0m\r\n",
      "  \u001b[34m--p-batch-size\u001b[0m INTEGER  The number of samples to be evaluated per training\r\n",
      "                          iteration.                              \u001b[35m[default: 5]\u001b[0m\r\n",
      "  \u001b[34m--p-differential-prior\u001b[0m NUMBER\r\n",
      "                          Width of normal prior for the `differentials`, or\r\n",
      "                          the coefficients of the multinomial regression.\r\n",
      "                          Smaller values will force the coefficients towards\r\n",
      "                          zero. Values must be greater than 0.  \u001b[35m[default: 1.0]\u001b[0m\r\n",
      "  \u001b[34m--p-learning-rate\u001b[0m NUMBER\r\n",
      "                          Gradient descent decay rate.        \u001b[35m[default: 0.001]\u001b[0m\r\n",
      "  \u001b[34m--p-clipnorm\u001b[0m NUMBER     Gradient clipping size.              \u001b[35m[default: 10.0]\u001b[0m\r\n",
      "  \u001b[34m--p-min-sample-count\u001b[0m INTEGER\r\n",
      "                          The minimum number of counts a sample needs for it\r\n",
      "                          to be included in the analysis.      \u001b[35m[default: 1000]\u001b[0m\r\n",
      "  \u001b[34m--p-min-feature-count\u001b[0m INTEGER\r\n",
      "                          The minimum number of samples a feature needs to be\r\n",
      "                          observed in for it to be included in the analysis.\r\n",
      "                                                                 \u001b[35m[default: 10]\u001b[0m\r\n",
      "  \u001b[34m--p-summary-interval\u001b[0m NUMBER\r\n",
      "                          Number of seconds before storing a summary.\r\n",
      "                                                                 \u001b[35m[default: 10]\u001b[0m\r\n",
      "  \u001b[34m--p-random-seed\u001b[0m INTEGER The number to used to receive consistent results\r\n",
      "                          for the random  processes in the fitting procedure.\r\n",
      "                                                                  \u001b[35m[default: 0]\u001b[0m\r\n",
      "  \u001b[34m--p-silent\u001b[0m / \u001b[34m--p-no-silent\u001b[0m\r\n",
      "                          Flag denoting whether to hide progress bar and\r\n",
      "                          TensorFlow warnings. If False, progress bar and\r\n",
      "                          warnings are displayed. If True, neither progress\r\n",
      "                          bar nor warnings are displayed. (Only has an impact\r\n",
      "                          when using this command with the --verbose option or\r\n",
      "                          through the Qiime2 Artifact API)    \u001b[35m[default: False]\u001b[0m\r\n",
      "\u001b[1mOutputs\u001b[0m:\r\n",
      "  \u001b[34m\u001b[4m--o-differentials\u001b[0m ARTIFACT \u001b[32mFeatureData[Differential]\u001b[0m\r\n",
      "                          Output differentials learned from the multinomial\r\n",
      "                          regression.                               \u001b[35m[required]\u001b[0m\r\n",
      "  \u001b[34m\u001b[4m--o-regression-stats\u001b[0m ARTIFACT \u001b[32mSampleData[SongbirdStats]\u001b[0m\r\n",
      "                          Summary information about the loss and cross\r\n",
      "                          validation error over iterations.         \u001b[35m[required]\u001b[0m\r\n",
      "  \u001b[34m\u001b[4m--o-regression-biplot\u001b[0m ARTIFACT \u001b[32mPCoAResults % Properties('biplot')\u001b[0m\r\n",
      "                          A biplot of the regression coefficients   \u001b[35m[required]\u001b[0m\r\n",
      "\u001b[1mMiscellaneous\u001b[0m:\r\n",
      "  \u001b[34m--output-dir\u001b[0m PATH       Output unspecified results to a directory\r\n",
      "  \u001b[34m--verbose\u001b[0m / \u001b[34m--quiet\u001b[0m     Display verbose output to stdout and/or stderr\r\n",
      "                          during execution of this action. Or silence output\r\n",
      "                          if execution is successful (silence is golden).\r\n",
      "  \u001b[34m--citations\u001b[0m             Show citations and exit.\r\n",
      "  \u001b[34m--help\u001b[0m                  Show this message and exit.\r\n",
      "\r\n",
      "\u001b[33m                  There were some problems with the command:                  \u001b[0m\r\n",
      "\u001b[31m\u001b[1m (1/6) Missing option \"--i-table\".\u001b[0m\r\n",
      "\u001b[31m\u001b[1m (2/6) Missing option \"--m-metadata-file\".\u001b[0m\r\n",
      "\u001b[31m\u001b[1m (3/6) Missing option \"--p-formula\".\u001b[0m\r\n",
      "\u001b[31m\u001b[1m (4/6) Missing option \"--o-differentials\".  (\"--output-dir\" may also be used)\u001b[0m\r\n",
      "\u001b[31m\u001b[1m (5/6) Missing option \"--o-regression-stats\".  (\"--output-dir\" may also be\r\n",
      "  used)\u001b[0m\r\n",
      "\u001b[31m\u001b[1m (6/6) Missing option \"--o-regression-biplot\".  (\"--output-dir\" may also be\r\n",
      "  used)\u001b[0m\r\n"
     ]
    }
   ],
   "source": []
  },
  {
   "cell_type": "code",
   "execution_count": null,
   "metadata": {},
   "outputs": [],
   "source": []
  }
 ],
 "metadata": {
  "kernelspec": {
   "display_name": "Python 3",
   "language": "python",
   "name": "python3"
  },
  "language_info": {
   "codemirror_mode": {
    "name": "ipython",
    "version": 3
   },
   "file_extension": ".py",
   "mimetype": "text/x-python",
   "name": "python",
   "nbconvert_exporter": "python",
   "pygments_lexer": "ipython3",
   "version": "3.6.7"
  }
 },
 "nbformat": 4,
 "nbformat_minor": 4
}
