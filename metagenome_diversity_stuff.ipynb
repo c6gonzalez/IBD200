{
 "cells": [
  {
   "cell_type": "code",
   "execution_count": 1,
   "metadata": {},
   "outputs": [],
   "source": [
    "#Convert tab-separated file to biom file\n",
    "!biom convert -i metagenome_final.txt \\\n",
    "-o metagenome.biom \\\n",
    "--table-type=\"OTU table\" --to-hdf5"
   ]
  },
  {
   "cell_type": "code",
   "execution_count": 2,
   "metadata": {},
   "outputs": [
    {
     "name": "stdout",
     "output_type": "stream",
     "text": [
      "\u001b[32mImported metagenome.biom as BIOMV210DirFmt to metagenome.qza\u001b[0m\r\n"
     ]
    }
   ],
   "source": [
    "!qiime tools import \\\n",
    "  --input-path metagenome.biom \\\n",
    "  --type 'FeatureTable[Frequency]' \\\n",
    "  --output-path metagenome.qza"
   ]
  },
  {
   "cell_type": "code",
   "execution_count": 3,
   "metadata": {},
   "outputs": [
    {
     "name": "stdout",
     "output_type": "stream",
     "text": [
      "\u001b[32mSaved Visualization to: metagenome_summarize.qzv\u001b[0m\r\n"
     ]
    }
   ],
   "source": [
    "!qiime feature-table summarize \\\n",
    "  --i-table metagenome.qza \\\n",
    "  --o-visualization metagenome_summarize.qzv \\\n",
    "  --m-sample-metadata-file IBD200_revamped_metadata_20210111.txt"
   ]
  },
  {
   "cell_type": "code",
   "execution_count": 4,
   "metadata": {},
   "outputs": [
    {
     "name": "stdout",
     "output_type": "stream",
     "text": [
      "\u001b[32mSaved FeatureTable[Frequency] to: metagenome_core_metrics/rarefied_table.qza\u001b[0m\n",
      "\u001b[32mSaved SampleData[AlphaDiversity] to: metagenome_core_metrics/observed_otus_vector.qza\u001b[0m\n",
      "\u001b[32mSaved SampleData[AlphaDiversity] to: metagenome_core_metrics/shannon_vector.qza\u001b[0m\n",
      "\u001b[32mSaved SampleData[AlphaDiversity] to: metagenome_core_metrics/evenness_vector.qza\u001b[0m\n",
      "\u001b[32mSaved DistanceMatrix to: metagenome_core_metrics/jaccard_distance_matrix.qza\u001b[0m\n",
      "\u001b[32mSaved DistanceMatrix to: metagenome_core_metrics/bray_curtis_distance_matrix.qza\u001b[0m\n",
      "\u001b[32mSaved PCoAResults to: metagenome_core_metrics/jaccard_pcoa_results.qza\u001b[0m\n",
      "\u001b[32mSaved PCoAResults to: metagenome_core_metrics/bray_curtis_pcoa_results.qza\u001b[0m\n",
      "\u001b[32mSaved Visualization to: metagenome_core_metrics/jaccard_emperor.qzv\u001b[0m\n",
      "\u001b[32mSaved Visualization to: metagenome_core_metrics/bray_curtis_emperor.qzv\u001b[0m\n"
     ]
    }
   ],
   "source": [
    "#Core metrics for PCoA \n",
    "!qiime diversity core-metrics \\\n",
    "--i-table metagenome.qza \\\n",
    "--p-sampling-depth 20543 \\\n",
    "--m-metadata-file IBD200_revamped_metadata_20210111.txt \\\n",
    "--output-dir metagenome_core_metrics"
   ]
  },
  {
   "cell_type": "code",
   "execution_count": 5,
   "metadata": {},
   "outputs": [
    {
     "name": "stdout",
     "output_type": "stream",
     "text": [
      "\u001b[32mSaved Visualization to: metagenome_shannon_viz.qzv\u001b[0m\r\n"
     ]
    }
   ],
   "source": [
    "!qiime diversity alpha-group-significance \\\n",
    "  --i-alpha-diversity metagenome_core_metrics/shannon_vector.qza \\\n",
    "  --m-metadata-file IBD200_revamped_metadata_20210111.txt \\\n",
    "  --o-visualization metagenome_shannon_viz.qzv"
   ]
  },
  {
   "cell_type": "code",
   "execution_count": 6,
   "metadata": {},
   "outputs": [
    {
     "name": "stdout",
     "output_type": "stream",
     "text": [
      "\u001b[32mSaved Visualization to: metegenome_beta_IBDvHC.qzv\u001b[0m\r\n"
     ]
    }
   ],
   "source": [
    "## beta div for IBD vs HC\n",
    "!qiime diversity beta-group-significance \\\n",
    "--i-distance-matrix metagenome_core_metrics/bray_curtis_distance_matrix.qza \\\n",
    "--m-metadata-file IBD200_revamped_metadata_20210111.txt \\\n",
    "--m-metadata-column 'Study-group' \\\n",
    "--p-pairwise \\\n",
    "--o-visualization metegenome_beta_IBDvHC.qzv"
   ]
  },
  {
   "cell_type": "code",
   "execution_count": 7,
   "metadata": {},
   "outputs": [
    {
     "name": "stdout",
     "output_type": "stream",
     "text": [
      "\u001b[32mSaved Visualization to: metegenome_beta_diagnosis.qzv\u001b[0m\r\n"
     ]
    }
   ],
   "source": [
    "## beta div for Diagnosis\n",
    "!qiime diversity beta-group-significance \\\n",
    "--i-distance-matrix metagenome_core_metrics/bray_curtis_distance_matrix.qza \\\n",
    "--m-metadata-file IBD200_revamped_metadata_20210111.txt \\\n",
    "--m-metadata-column 'Diagnosis' \\\n",
    "--p-pairwise \\\n",
    "--o-visualization metegenome_beta_diagnosis.qzv"
   ]
  },
  {
   "cell_type": "code",
   "execution_count": 10,
   "metadata": {},
   "outputs": [
    {
     "name": "stdout",
     "output_type": "stream",
     "text": [
      "\u001b[32mSaved Visualization to: metegenome_beta_location.qzv\u001b[0m\r\n"
     ]
    }
   ],
   "source": [
    "## beta div for Location\n",
    "!qiime diversity beta-group-significance \\\n",
    "--i-distance-matrix metagenome_core_metrics/bray_curtis_distance_matrix.qza \\\n",
    "--m-metadata-file IBD200_revamped_metadata_20210111.txt \\\n",
    "--m-metadata-column 'Active-Location' \\\n",
    "--p-pairwise \\\n",
    "--o-visualization metegenome_beta_location.qzv"
   ]
  },
  {
   "cell_type": "code",
   "execution_count": 11,
   "metadata": {},
   "outputs": [
    {
     "name": "stdout",
     "output_type": "stream",
     "text": [
      "\u001b[32mSaved Visualization to: metegenome_beta_historic_location.qzv\u001b[0m\r\n"
     ]
    }
   ],
   "source": [
    "## beta div for historic\n",
    "!qiime diversity beta-group-significance \\\n",
    "--i-distance-matrix metagenome_core_metrics/bray_curtis_distance_matrix.qza \\\n",
    "--m-metadata-file IBD200_revamped_metadata_20210111.txt \\\n",
    "--m-metadata-column 'Historic-location' \\\n",
    "--p-pairwise \\\n",
    "--o-visualization metegenome_beta_historic_location.qzv"
   ]
  },
  {
   "cell_type": "code",
   "execution_count": null,
   "metadata": {},
   "outputs": [],
   "source": []
  }
 ],
 "metadata": {
  "kernelspec": {
   "display_name": "Python 3",
   "language": "python",
   "name": "python3"
  },
  "language_info": {
   "codemirror_mode": {
    "name": "ipython",
    "version": 3
   },
   "file_extension": ".py",
   "mimetype": "text/x-python",
   "name": "python",
   "nbconvert_exporter": "python",
   "pygments_lexer": "ipython3",
   "version": "3.6.7"
  }
 },
 "nbformat": 4,
 "nbformat_minor": 4
}
